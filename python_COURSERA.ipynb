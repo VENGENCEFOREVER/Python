{
 "cells": [
  {
   "cell_type": "markdown",
   "metadata": {},
   "source": [
    "# CONSTANTS\n",
    "- Fixed values such as numbers, letters, and strings are called constants, because their value does not change.\n",
    "\n",
    "- Numeric constants are as you expect; numbers.\n",
    "- String constants use single quotes(') or double quotes(\").\n",
    "\n",
    "# VARIABLES\n",
    "-  A variable is a named place in the memory where a programmer can store data and later retrieve the data using the variable name.\n",
    "\n",
    "- Programmers get to choose the names of the variables.\n",
    "\n",
    "- You can change the contents of a variable in a later statement.\n",
    "\n",
    "*NOTE* : You can not use reserve words as variable names/ identifiers: \n",
    "1. False\n",
    "2. None\n",
    "3. False\n",
    "4. and\n",
    "5. as\n",
    "6. assert\n",
    "7. async\n",
    "8. await\n",
    "9. break\n",
    "10. class\n",
    "11. continue\n",
    "12. def\n",
    "13. del\n",
    "14. elif\n",
    "15. else\n",
    "16. except\n",
    "17. finally\n",
    "18. for\n",
    "19. from\n",
    "20. global\n",
    "21. if\n",
    "22. import\n",
    "23. in\n",
    "24. is\n",
    "25. lambda\n",
    "26. nonlocal\n",
    "27. not\n",
    "28. or\n",
    "29. pass\n",
    "30. raise\n",
    "31. return\n",
    "32. try\n",
    "33. while\n",
    "34. with\n",
    "35. yield\n"
   ]
  },
  {
   "cell_type": "markdown",
   "metadata": {},
   "source": [
    "# PYTHOM VARIABLE NAME RULES:\n",
    "- Must start with a letter or underscore(_).{We mostly don't use underscores}\n",
    "- Must consist of letters, numbers, and underscores.\n",
    "- Case Sensitive\n",
    "\n",
    "*Good*: spam, eggs, spam23, _speed \n",
    "\n",
    "*Bad*: 23spam, #sign, var.12\n",
    "\n",
    "*Different*: spam Spam SPAM"
   ]
  },
  {
   "cell_type": "markdown",
   "metadata": {},
   "source": [
    "# ASSIGNMENT STATEMENTS\n",
    "- We assign a value to a variable using the assignment statement (=).\n",
    "- An assignment statement statement consists of an expression on the RHS and a avriable to store the result.\n",
    "\n",
    "*Ex*: 3.9* x * (1 - x)"
   ]
  },
  {
   "cell_type": "code",
   "execution_count": 1,
   "metadata": {},
   "outputs": [
    {
     "name": "stdout",
     "output_type": "stream",
     "text": [
      "4\n"
     ]
    }
   ],
   "source": [
    "x = 2\n",
    "x = x + 2\n",
    "print(x)"
   ]
  },
  {
   "cell_type": "markdown",
   "metadata": {},
   "source": [
    "# NUMERICAL EXPRESSIONS\n",
    "- Because of the lack of mathematical symbols on computer keyboards - we use \"computer - speak\" to express the classic math operaations.\n",
    "- Astriek is multiplication.\n",
    "- Exponentiation(raise to power) looks differrent than math.\n",
    "\n",
    "Operator     Operation \n",
    "\n",
    "    +         Addition\n",
    "\n",
    "    -        Subraction\n",
    "\n",
    "    *        Multiplication\n",
    "\n",
    "    /         Division\n",
    "\n",
    "    **         Power\n",
    "    \n",
    "    %         Remainder"
   ]
  },
  {
   "cell_type": "markdown",
   "metadata": {},
   "source": [
    "# ORDER OF EVALUATION\n",
    "- When we string operations together - Python must know which one to do first.\n",
    "- This is called \"Operator precedence\".\n",
    "- Which operator \"takes precedence\" over the others?\n",
    "\n",
    " x  = 1 + 2 * 3 - 4 / 5 ** 6\n",
    "\n",
    "# OPERATOR PRECEDANCE RULES:\n",
    "Highest precedence rule to lowest precedence rule:\n",
    "1. Parenthesis\n",
    "2. Exponentiation (raise to power)\n",
    "3. Multiplication, Division and Remainder\n",
    "4. Addition and Subtraction\n",
    "5. Left to right\n",
    "\n"
   ]
  },
  {
   "cell_type": "code",
   "execution_count": 3,
   "metadata": {},
   "outputs": [
    {
     "name": "stdout",
     "output_type": "stream",
     "text": [
      "6.999744\n"
     ]
    }
   ],
   "source": [
    "x  = 1 + (2 * 3) - (4 / (5 ** 6))\n",
    "print(x)"
   ]
  },
  {
   "cell_type": "markdown",
   "metadata": {},
   "source": [
    "# WHAT DOES \"TYPE\" MEAN?\n",
    "- In python variables, literals, and constants have a \"type\".\n",
    "- Python knows the difference  between an integer and a string.\n",
    "- *EX*: \"+\" means \"addition\" if something is a number,\n",
    "                  \"concatinate\" if something is a string.\n",
    "- We can ask python what type something is by using the type() function."
   ]
  },
  {
   "cell_type": "markdown",
   "metadata": {},
   "source": [
    "# Types of numbers:\n",
    "- Interers are whole numbers.\n",
    "- Floating point numbers have decimal parts.\n",
    "- There are other number types - they are variations on the float and integer.\n"
   ]
  },
  {
   "cell_type": "markdown",
   "metadata": {},
   "source": [
    "# TYPE CONVERSIONS\n",
    "- When you put an integer and floating point in an expression, the integer is implicitly converted to a float.\\\n",
    "- You can control this with the built-in functions int() and float().\n",
    "- Integer division produces a floating point result."
   ]
  },
  {
   "cell_type": "markdown",
   "metadata": {},
   "source": [
    "# STRING CONVERSIONS:\n",
    "- You can also use int() and float() to convert between strings and integers.\n",
    "- You will get an ertror if the string doesd not contain numeric charecters.\n"
   ]
  },
  {
   "cell_type": "markdown",
   "metadata": {},
   "source": [
    "# USER INPUT\n",
    "- We can instruct python to pause and read data from the user using the input() function.\n",
    "- The input() function returns a string.\n"
   ]
  },
  {
   "cell_type": "code",
   "execution_count": 6,
   "metadata": {},
   "outputs": [
    {
     "name": "stdout",
     "output_type": "stream",
     "text": [
      "Welcome Balakrishna\n"
     ]
    }
   ],
   "source": [
    "name = input('Who are you?')\n",
    "print('Welcome',name)"
   ]
  }
 ],
 "metadata": {
  "kernelspec": {
   "display_name": "Python 3",
   "language": "python",
   "name": "python3"
  },
  "language_info": {
   "codemirror_mode": {
    "name": "ipython",
    "version": 3
   },
   "file_extension": ".py",
   "mimetype": "text/x-python",
   "name": "python",
   "nbconvert_exporter": "python",
   "pygments_lexer": "ipython3",
   "version": "3.10.7"
  }
 },
 "nbformat": 4,
 "nbformat_minor": 2
}
