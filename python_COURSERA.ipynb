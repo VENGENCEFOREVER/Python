{
 "cells": [
  {
   "cell_type": "markdown",
   "metadata": {},
   "source": [
    "# CONSTANTS\n",
    "- Fixed values such as numbers, letters, and strings are called constants, because their value does not change.\n",
    "\n",
    "- Numeric constants are as you expect; numbers.\n",
    "- String constants use single quotes(') or double quotes(\").\n",
    "\n",
    "# VARIABLES\n",
    "-  A variable is a named place in the memory where a programmer can store data and later retrieve the data using the variable name.\n",
    "\n",
    "- Programmers get to choose the names of the variables.\n",
    "\n",
    "- You can change the contents of a variable in a later statement.\n",
    "\n",
    "*NOTE* : You can not use reserve words as variable names/ identifiers\n",
    "1. False\n",
    "2. None\n",
    "3. False\n",
    "4. and\n",
    "5. as\n",
    "6. assert\n",
    "7. async\n",
    "8. await\n",
    "9. break\n",
    "10. class\n",
    "11. continue\n",
    "12. def\n",
    "13. del\n",
    "14. elif\n",
    "15. else\n",
    "16. except\n",
    "17. finally\n",
    "18. for\n",
    "19. from\n",
    "20. global\n",
    "21. if\n",
    "22. import\n",
    "23. in\n",
    "24. is\n",
    "25. lambda\n",
    "26. nonlocal\n",
    "27. not\n",
    "28. or\n",
    "29. pass\n",
    "30. raise\n",
    "31. return\n",
    "32. try\n",
    "33. while\n",
    "34. with\n",
    "35. yield\n"
   ]
  },
  {
   "cell_type": "code",
   "execution_count": null,
   "metadata": {},
   "outputs": [],
   "source": []
  }
 ],
 "metadata": {
  "language_info": {
   "name": "python"
  }
 },
 "nbformat": 4,
 "nbformat_minor": 2
}
