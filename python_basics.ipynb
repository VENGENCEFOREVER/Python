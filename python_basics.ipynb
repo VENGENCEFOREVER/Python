{
 "cells": [
  {
   "cell_type": "markdown",
   "metadata": {},
   "source": [
    "# INTRODUCTION TO PYTHON\n",
    "\n",
    "- Python is a general-purpose programming language\n",
    "similar to other programing languages like C, C++, Java.\n",
    "\n",
    "- It is developed by Rossum\n",
    "\n",
    "Why choose python over other languages?\n",
    "\n",
    "• Its flexibility and simplicity which makes it easy to\n",
    "learn.\n",
    "\n",
    "• Its ability to run on (almost) any operating system,\n",
    "but particularly the big three operating systems Windows\n",
    ", MacOS and Linux.\n",
    "\n",
    "•Python is perfect for automation\n",
    "\n",
    "• The availability of a wide range of libraries (modules)\n",
    "that can be used to extend the basic features of the \n",
    "language.\n",
    "\n",
    "•It is free!\n",
    "\n",
    "•IDLE is a editor for python that comes bundled with \n",
    "python\n",
    "\n",
    "•The python script is saved with extension .py\n",
    "\n",
    "•To run the files from terminal use python.file.py\n",
    "\n",
    "•By executing the python command in your terminal you \n",
    "are presented with an interactive python shell known as \n",
    "python interpreter\n",
    "\n",
    "•The shebang line or bash line is used to tell the \n",
    "interpreter it is a python script\n",
    "\n",
    "#!/usr/bin/env python3\n",
    "\n",
    "# Python Variables\n",
    "• Variable is a name that is used to refer to memory \n",
    "location. Python variable is also known as an identifier \n",
    "and used to hold value.\n",
    "\n",
    "•In Python, we don't need to specify the type of variable \n",
    "because Python is a infer language and smart enough to \n",
    "get variable type.\n",
    "\n",
    "■ The following rules are to be followed to name a \n",
    "variable\n",
    "\n",
    "•The first character of the variable must be an alphabet \n",
    "or underscore.\n",
    "\n",
    "•All the characters except the first character may be an \n",
    "alphabet of lower-case,\n",
    "\n",
    "upper-case, underscore, or digit. xcellence incial \n",
    "characte Identifier name must not contain any white-space\n",
    ", or special character\n",
    "\n",
    "•Identifier name must not be similar to any keyword \n",
    "defined in the language.\n",
    "\n",
    "• Identifier names are case sensitive."
   ]
  },
  {
   "cell_type": "code",
   "execution_count": 5,
   "metadata": {},
   "outputs": [
    {
     "name": "stdout",
     "output_type": "stream",
     "text": [
      "Hello, World!...Ahh... Damm the traditions\n",
      "Started lkearning Python... Again\n"
     ]
    }
   ],
   "source": [
    "print(\"Hello, World!...Ahh... Damm the traditions\")\n",
    "print(\"Started lkearning Python... Again\")"
   ]
  },
  {
   "cell_type": "code",
   "execution_count": 7,
   "metadata": {},
   "outputs": [
    {
     "name": "stdout",
     "output_type": "stream",
     "text": [
      "This is python version 3.10.7\n"
     ]
    }
   ],
   "source": [
    "import platform\n",
    "version = platform.python_version()\n",
    "print('This is python version {}'.format(platform.python_version()))"
   ]
  },
  {
   "cell_type": "markdown",
   "metadata": {},
   "source": [
    "# PYTHON DATA TYPES\n",
    "■ Numerical Data Types: \n",
    "- Integers\n",
    "- Float\n",
    "- Complex Number\n",
    "\n",
    "■ Boolean Type\n",
    "\n",
    "■ Sequence Types:\n",
    "- String\n",
    "- List\n",
    "- Tuple\n",
    "\n",
    "■ Dictionaries\n",
    "■ Set Data Types\n"
   ]
  },
  {
   "cell_type": "code",
   "execution_count": null,
   "metadata": {},
   "outputs": [],
   "source": []
  }
 ],
 "metadata": {
  "kernelspec": {
   "display_name": "Python 3",
   "language": "python",
   "name": "python3"
  },
  "language_info": {
   "codemirror_mode": {
    "name": "ipython",
    "version": 3
   },
   "file_extension": ".py",
   "mimetype": "text/x-python",
   "name": "python",
   "nbconvert_exporter": "python",
   "pygments_lexer": "ipython3",
   "version": "3.10.7"
  }
 },
 "nbformat": 4,
 "nbformat_minor": 2
}
