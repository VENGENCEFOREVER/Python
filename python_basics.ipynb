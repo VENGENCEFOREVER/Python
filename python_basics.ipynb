{
 "cells": [
  {
   "cell_type": "markdown",
   "metadata": {},
   "source": [
    "# INTRODUCTION TO PYTHON\n",
    "\n",
    "- Python is a general-purpose programming language\n",
    "similar to other programing languages like C, C++, Java.\n",
    "\n",
    "- It is developed by Rossum\n",
    "\n",
    "Why choose python over other languages?\n",
    "\n",
    "• Its flexibility and simplicity which makes it easy to\n",
    "learn.\n",
    "\n",
    "• Its ability to run on (almost) any operating system,\n",
    "but particularly the big three operating systems Windows\n",
    ", MacOS and Linux.\n",
    "\n",
    "•Python is perfect for automation\n",
    "\n",
    "• The availability of a wide range of libraries (modules)\n",
    "that can be used to extend the basic features of the \n",
    "language.\n",
    "\n",
    "•It is free!\n",
    "\n",
    "•IDLE is a editor for python that comes bundled with \n",
    "python\n",
    "\n",
    "•The python script is saved with extension .py\n",
    "\n",
    "•To run the files from terminal use python.file.py\n",
    "\n",
    "•By executing the python command in your terminal you \n",
    "are presented with an interactive python shell known as \n",
    "python interpreter\n",
    "\n",
    "•The shebang line or bash line is used to tell the \n",
    "interpreter it is a python script\n",
    "\n",
    "#!/usr/bin/env python3\n",
    "\n",
    "# Python Variables\n",
    "• Variable is a name that is used to refer to memory \n",
    "location. Python variable is also known as an identifier \n",
    "and used to hold value.\n",
    "\n",
    "•In Python, we don't need to specify the type of variable \n",
    "because Python is a infer language and smart enough to \n",
    "get variable type.\n",
    "\n",
    "■ The following rules are to be followed to name a \n",
    "variable\n",
    "\n",
    "•The first character of the variable must be an alphabet \n",
    "or underscore.\n",
    "\n",
    "•All the characters except the first character may be an \n",
    "alphabet of lower-case,\n",
    "\n",
    "upper-case, underscore, or digit. xcellence incial \n",
    "characte Identifier name must not contain any white-space\n",
    ", or special character\n",
    "\n",
    "•Identifier name must not be similar to any keyword \n",
    "defined in the language.\n",
    "\n",
    "• Identifier names are case sensitive."
   ]
  },
  {
   "cell_type": "code",
   "execution_count": 5,
   "metadata": {},
   "outputs": [
    {
     "name": "stdout",
     "output_type": "stream",
     "text": [
      "Hello, World!...Ahh... Damm the traditions\n",
      "Started lkearning Python... Again\n"
     ]
    }
   ],
   "source": [
    "print(\"Hello, World!...Ahh... Damm the traditions\")\n",
    "print(\"Started lkearning Python... Again\")"
   ]
  },
  {
   "cell_type": "code",
   "execution_count": 7,
   "metadata": {},
   "outputs": [
    {
     "name": "stdout",
     "output_type": "stream",
     "text": [
      "This is python version 3.10.7\n"
     ]
    }
   ],
   "source": [
    "import platform\n",
    "version = platform.python_version()\n",
    "print('This is python version {}'.format(platform.python_version()))"
   ]
  },
  {
   "cell_type": "markdown",
   "metadata": {},
   "source": [
    "# PYTHON DATA TYPES\n",
    "■ Numerical Data Types: \n",
    "- Integers\n",
    "- Float\n",
    "- Complex Number\n",
    "\n",
    "■ Boolean Type\n",
    "\n",
    "■ Sequence Types:\n",
    "- String\n",
    "- List\n",
    "- Tuple\n",
    "\n",
    "■ Dictionaries\n",
    "\n",
    "■ Set Data Types\n"
   ]
  },
  {
   "cell_type": "code",
   "execution_count": 8,
   "metadata": {},
   "outputs": [
    {
     "name": "stdout",
     "output_type": "stream",
     "text": [
      "1\n",
      "x is of type<class 'int'>\n"
     ]
    }
   ],
   "source": [
    "x=1\n",
    "print(x) #1\n",
    "print('x is of type{}'.format(type(x)))"
   ]
  },
  {
   "cell_type": "code",
   "execution_count": 9,
   "metadata": {},
   "outputs": [
    {
     "name": "stdout",
     "output_type": "stream",
     "text": [
      "1.0\n",
      "x is of type<class 'float'>\n"
     ]
    }
   ],
   "source": [
    "x=1.0\n",
    "print(x) #1.0\n",
    "print('x is of type{}'.format(type(x)))"
   ]
  },
  {
   "cell_type": "code",
   "execution_count": 10,
   "metadata": {},
   "outputs": [
    {
     "name": "stdout",
     "output_type": "stream",
     "text": [
      "(2+3j)\n",
      "x is of type<class 'complex'>\n"
     ]
    }
   ],
   "source": [
    "x=2+3j\n",
    "print(x) #(2+3j)\n",
    "print('x is of type{}'.format(type(x)))"
   ]
  },
  {
   "cell_type": "code",
   "execution_count": 11,
   "metadata": {},
   "outputs": [
    {
     "name": "stdout",
     "output_type": "stream",
     "text": [
      "2\n",
      "x is of type<class 'int'>\n"
     ]
    }
   ],
   "source": [
    "x= 5%3\n",
    "print(x) #2\n",
    "print('x is of type{}'.format(type(x)))"
   ]
  },
  {
   "cell_type": "code",
   "execution_count": 13,
   "metadata": {},
   "outputs": [
    {
     "name": "stdout",
     "output_type": "stream",
     "text": [
      "True division 3/2: 1.5\n",
      "True division 3/2: -1.5\n",
      "Integer division 3//2: 1\n",
      "Integer division 3//2: -2\n"
     ]
    }
   ],
   "source": [
    "print('True division 3/2:',3/2) \n",
    "print('True division 3/2:',-3/2)\n",
    "print('Integer division 3//2:',3//2)\n",
    "print('Integer division 3//2:',-3//2)"
   ]
  },
  {
   "cell_type": "markdown",
   "metadata": {},
   "source": [
    "- Boolean Data types provides two built-in values, \n",
    "True and false. These values are used to determine the \n",
    "whether the given statements are true or false.\n",
    "\n",
    "- True can be represented as any non-zero value or'T' \n",
    "whereas false can be represented by the 0 or 'F'."
   ]
  },
  {
   "cell_type": "code",
   "execution_count": 14,
   "metadata": {},
   "outputs": [
    {
     "name": "stdout",
     "output_type": "stream",
     "text": [
      "<class 'bool'>\n",
      "<class 'bool'>\n"
     ]
    }
   ],
   "source": [
    "print(type(True)) #<class 'bool'>\n",
    "print(type(False)) #<class 'bool'>"
   ]
  },
  {
   "cell_type": "markdown",
   "metadata": {},
   "source": [
    "- The string can be defined as the sequence of characters\n",
    "represented in the quotation marks. In Python, we can use\n",
    "single,double or triple quotes to define a string.\n",
    "- They are immutable"
   ]
  },
  {
   "cell_type": "code",
   "execution_count": 15,
   "metadata": {},
   "outputs": [
    {
     "name": "stdout",
     "output_type": "stream",
     "text": [
      "Learning STRING DATA TYPE\n",
      "Tom Marvolo Riddle\n",
      "T\n",
      "m \n",
      "Tom Marvolo Riddle Is Lord Voldemort\n",
      "hehehehe\n"
     ]
    }
   ],
   "source": [
    "print(\"Learning STRING DATA TYPE\")\n",
    "s = \"Tom Marvolo Riddle\"\n",
    "print(s)\n",
    "print(s[0]) \n",
    "print(s[2:4])\n",
    "x = 'Is Lord Voldemort'\n",
    "print(s+' '+x) \n",
    "print('hehe'*2) "
   ]
  },
  {
   "cell_type": "markdown",
   "metadata": {},
   "source": [
    "- Python Lists are similar to arrays. However, the list \n",
    "can contain data of different types. The items stored in\n",
    "the list are separated with a comma (,) and enclosed \n",
    "within square brackets [].\n",
    "\n",
    "- Lists are mutable, we can modify the data present in \n",
    "the list."
   ]
  },
  {
   "cell_type": "code",
   "execution_count": 16,
   "metadata": {},
   "outputs": [
    {
     "name": "stdout",
     "output_type": "stream",
     "text": [
      "<class 'list'>\n",
      "['couldron', 'wand', 'cloak', 'books']\n",
      "['couldron', 'wand']\n",
      "['couldron', 'wand', 'cloak']\n",
      "['couldron', 'wand', 'cloak', 'books']\n",
      "['Firebolt', 'wand', 'cloak', 'books']\n"
     ]
    }
   ],
   "source": [
    "things = ['couldron','wand','cloak','books']\n",
    "print(type(things)) \n",
    "print(things) \n",
    "print(things[0:2]) \n",
    "print(things[:3]) \n",
    "print(things[0:]) \n",
    "things[0] = 'Firebolt' \n",
    "print(things) "
   ]
  },
  {
   "cell_type": "markdown",
   "metadata": {},
   "source": [
    "- A tuple is similar to the list in many ways. Like lists,\n",
    "tuples also contain the collection of the items of \n",
    "different data types. The items of the tuple are \n",
    "separated with a comma (,) and enclosed in parentheses()\n",
    "\n",
    "- A tuple is immutable, we can't modify the size and \n",
    "value of the items of a tuple."
   ]
  },
  {
   "cell_type": "code",
   "execution_count": 17,
   "metadata": {},
   "outputs": [
    {
     "name": "stdout",
     "output_type": "stream",
     "text": [
      "<class 'tuple'>\n",
      "('couldron', 'wand', 'cloak', 'books')\n",
      "('couldron', 'wand')\n",
      "('couldron', 'wand', 'cloak')\n",
      "('couldron', 'wand', 'cloak', 'books')\n"
     ]
    }
   ],
   "source": [
    "things = ('couldron','wand','cloak','books')\n",
    "print(type(things)) \n",
    "print(things)\n",
    "print(things[0:2])\n",
    "print(things[:3])\n",
    "print(things[0:]) "
   ]
  },
  {
   "cell_type": "markdown",
   "metadata": {},
   "source": [
    "- Dictionary is an unordered set of a key-value pair of \n",
    "items. It is like an associative array or a hash table \n",
    "where each key stores a specific value.\n",
    "\n",
    "- A dictionary key can be a different data type, like a \n",
    "string, integer, float, or even tuples.\n",
    "\n",
    "- The items in the dictionary are separated with the \n",
    "comma (,) and enclosed in the curly braces{}."
   ]
  },
  {
   "cell_type": "code",
   "execution_count": 18,
   "metadata": {},
   "outputs": [
    {
     "name": "stdout",
     "output_type": "stream",
     "text": [
      "<class 'dict'>\n",
      "{'couldron': 'Madam Malkins', 'wand': 'Ollivanders', 'puking pastles': 'Honeydukes', 'books': 'F&B'}\n",
      "Madam Malkins\n",
      "dict_keys(['couldron', 'wand', 'puking pastles', 'books'])\n",
      "dict_values(['Madam Malkins', 'Ollivanders', 'Honeydukes', 'F&B'])\n",
      "{'couldron': 'Madam Malkins', 'wand': 'Ollivanders', 'puking pastles': 'weasleys', 'books': 'F&B'}\n"
     ]
    }
   ],
   "source": [
    "things = {'couldron':'Madam Malkins','wand':'Ollivanders'\n",
    "          ,'puking pastles':'Honeydukes','books':'F&B'}\n",
    "print(type(things)) \n",
    "print(things) \n",
    "print(things['couldron']) \n",
    "print(things.keys()) \n",
    "print(things.values()) \n",
    "things['puking pastles']= 'weasleys'\n",
    "print(things)"
   ]
  },
  {
   "cell_type": "markdown",
   "metadata": {},
   "source": [
    "- Python Set is the unordered collection of the data type.\n",
    "It is iterable, mutable(can modify after creation), and \n",
    "has unique elements.\n",
    "\n",
    "- In set, the order of the elements is undefined; it may \n",
    "return the changed sequence of the element.\n",
    "\n",
    "- The set is created by using a built-in function set(),\n",
    "or a sequence of elements is passed in the curly braces \n",
    "and separated by the comma. \n",
    "\n",
    "- It can contain various types of values."
   ]
  },
  {
   "cell_type": "code",
   "execution_count": 19,
   "metadata": {},
   "outputs": [
    {
     "name": "stdout",
     "output_type": "stream",
     "text": [
      "<class 'set'>\n",
      "{'wand', 'cloak', 'books', 'couldron'}\n",
      "{'books', 'owl', 'wand', 'cloak', 'couldron'}\n",
      "{'Muggles', 'Magic People'}\n"
     ]
    }
   ],
   "source": [
    "things = {'couldron','wand','cloak','books'}\n",
    "print(type(things)) \n",
    "print(things) \n",
    "things.add('owl')\n",
    "print(things) \n",
    "a= set(('Magic People','Muggles'))\n",
    "print(a) \n"
   ]
  },
  {
   "cell_type": "markdown",
   "metadata": {},
   "source": [
    "Python supports following operators:\n",
    "\n",
    "- Arithmetic operators\n",
    "\n",
    "- Comparison operators\n",
    "\n",
    "- Assignment Operators\n",
    "\n",
    "- Logical Operators\n",
    "\n",
    "- Bitwise Operators\n",
    "\n",
    "- Membership Operators\n",
    "\n",
    "- Identity Operators"
   ]
  },
  {
   "cell_type": "markdown",
   "metadata": {},
   "source": [
    "• A function is defined as the organized block of reusable \n",
    "code, which can be called whenever required.\n",
    "\n",
    "• There are two types of functions \n",
    " - User defined functions \n",
    " - Built-in functions"
   ]
  },
  {
   "cell_type": "code",
   "execution_count": 20,
   "metadata": {},
   "outputs": [
    {
     "name": "stdout",
     "output_type": "stream",
     "text": [
      "Hello There\n",
      "Welcome,Ron\n",
      "The sum of both triangles is 110.5\n"
     ]
    }
   ],
   "source": [
    "def greet():\n",
    "    print('Hello There')\n",
    "\n",
    "def greeting(name):\n",
    "    print('Welcome,'+name)\n",
    "\n",
    "greet() \n",
    "greeting('Ron')\n",
    "\n",
    "def area_triangle(base,height):\n",
    "    return base*height/2\n",
    "\n",
    "area_a = area_triangle(10,20)\n",
    "area_b = area_triangle(7,3)\n",
    "sum = area_a + area_b\n",
    "print('The sum of both triangles is '+ str(sum))"
   ]
  },
  {
   "cell_type": "markdown",
   "metadata": {},
   "source": [
    "- To compare values comparision operators will be used\n",
    "(==,!=,<,>).\n",
    "- When a comparision is made, Python returns a boolean \n",
    "result, True or False."
   ]
  },
  {
   "cell_type": "code",
   "execution_count": 21,
   "metadata": {},
   "outputs": [
    {
     "name": "stdout",
     "output_type": "stream",
     "text": [
      "True\n",
      "False\n",
      "True\n",
      "False\n",
      "False\n",
      "True\n"
     ]
    }
   ],
   "source": [
    "print(10<20)\n",
    "print ('cat'== 'dog') \n",
    "print (1!=2) \n",
    "print(10>20 and 15<20) \n",
    "print(10>20 and 15<20) \n",
    "print(not 15<10)"
   ]
  },
  {
   "cell_type": "code",
   "execution_count": 24,
   "metadata": {},
   "outputs": [
    {
     "name": "stdout",
     "output_type": "stream",
     "text": [
      "True\n",
      "None\n",
      "True\n",
      "False\n",
      "Positive\n",
      "Zero\n",
      "Negative\n"
     ]
    }
   ],
   "source": [
    "def check_even(number):\n",
    "    if(number %2 == 0):\n",
    "        return True\n",
    "    \n",
    "print(check_even(8)) \n",
    "print(check_even(9))\n",
    "\n",
    "def check_even(number):\n",
    "    if(number %2 == 0):\n",
    "        return True\n",
    "    else:\n",
    "        return False\n",
    "print(check_even(8)) \n",
    "print(check_even(9)) \n",
    "\n",
    "def number_group(number):\n",
    "    if (number>0):\n",
    "        return \"Positive\"\n",
    "    elif (number<0):\n",
    "        return \"Negative\"\n",
    "    else:\n",
    "        return \"Zero\"\n",
    "    \n",
    "print(number_group(10)) \n",
    "print(number_group(0)) \n",
    "print(number_group(-5))"
   ]
  },
  {
   "cell_type": "markdown",
   "metadata": {},
   "source": [
    "Python supports two types of loops \n",
    "- For loop - Iterates the statements or a part of the program \n",
    "over the sequence.\n",
    "-  While loop - Instruct the computer to continuously \n",
    "execute the code based on the value of condition"
   ]
  },
  {
   "cell_type": "markdown",
   "metadata": {},
   "source": [
    "1. While Loop:"
   ]
  },
  {
   "cell_type": "code",
   "execution_count": 25,
   "metadata": {},
   "outputs": [
    {
     "name": "stdout",
     "output_type": "stream",
     "text": [
      "x is still less than 5, x = 0\n",
      "x is still less than 5, x = 1\n",
      "x is still less than 5, x = 2\n",
      "x is still less than 5, x = 3\n",
      "x is still less than 5, x = 4\n",
      "x is 5\n"
     ]
    }
   ],
   "source": [
    "x = 0\n",
    "while x<5:\n",
    "    print('x is still less than 5, x = {}'.format(x))\n",
    "    x = x+1\n",
    "print('x is {}'.format(x))"
   ]
  },
  {
   "cell_type": "code",
   "execution_count": 26,
   "metadata": {},
   "outputs": [
    {
     "name": "stdout",
     "output_type": "stream",
     "text": [
      "Attempt 1\n",
      "Attempt 2\n",
      "Attempt 3\n",
      "Attempt 4\n",
      "Done\n"
     ]
    }
   ],
   "source": [
    "def attempts(n):\n",
    "    x=1\n",
    "    while x <= n:\n",
    "        print('Attempt {}'.format(x))\n",
    "        x += 1 \n",
    "    print('Done')\n",
    "attempts(4)"
   ]
  },
  {
   "cell_type": "markdown",
   "metadata": {},
   "source": [
    "2. For loop"
   ]
  },
  {
   "cell_type": "code",
   "execution_count": 27,
   "metadata": {},
   "outputs": [
    {
     "name": "stdout",
     "output_type": "stream",
     "text": [
      "sum of elements in a list is 20\n"
     ]
    }
   ],
   "source": [
    "list = [1,2,3,4,5]\n",
    "for i in list:\n",
    "    x+=i\n",
    "print('sum of elements in a list is {}'.format(x))"
   ]
  },
  {
   "cell_type": "markdown",
   "metadata": {},
   "source": [
    "- Range function is used to generate the sequence of numbers \n",
    "- Range of numbers will start with zero value by default.\n",
    "- The step increment for every time we enter the loop is \n",
    "by default 1.\n",
    "- The list of numbers generated will be one less than the \n",
    "given value. "
   ]
  },
  {
   "cell_type": "code",
   "execution_count": 28,
   "metadata": {},
   "outputs": [
    {
     "name": "stdout",
     "output_type": "stream",
     "text": [
      "The value of x is 0\n",
      "The value of x is 1\n",
      "The value of x is 2\n",
      "The value of x is 3\n",
      "The value of x is 4\n"
     ]
    }
   ],
   "source": [
    "for x in range(5):\n",
    "    print('The value of x is {}'.format(x))\n"
   ]
  },
  {
   "cell_type": "code",
   "execution_count": 33,
   "metadata": {},
   "outputs": [
    {
     "name": "stdout",
     "output_type": "stream",
     "text": [
      "product of first five numbers are 120\n",
      "0\n",
      "2\n",
      "4\n",
      "6\n",
      "8\n",
      "10\n",
      "12\n",
      "14\n",
      "16\n",
      "18\n",
      "20\n"
     ]
    }
   ],
   "source": [
    "product = 1\n",
    "for x in range(1,6):\n",
    "    product = product*x\n",
    "print('product of first five numbers are {}'.format(product))\n",
    "#product of first five numbers are 120\n",
    "\n",
    "for x in range(0,21,2):\n",
    "    print(x)"
   ]
  },
  {
   "cell_type": "code",
   "execution_count": 34,
   "metadata": {},
   "outputs": [
    {
     "name": "stdout",
     "output_type": "stream",
     "text": [
      "0\n",
      "1\n",
      "2\n",
      "3\n",
      "4\n",
      "5\n",
      "6\n",
      "7\n",
      "8\n",
      "9\n",
      "10\n",
      "11\n",
      "12\n",
      "13\n",
      "14\n",
      "15\n",
      "16\n",
      "17\n",
      "18\n",
      "19\n",
      "20\n",
      "21\n",
      "22\n",
      "23\n",
      "24\n",
      "25\n",
      "26\n",
      "27\n",
      "28\n",
      "29\n",
      "30\n",
      "31\n",
      "32\n",
      "33\n",
      "34\n",
      "35\n",
      "36\n",
      "37\n",
      "38\n",
      "39\n",
      "40\n",
      "41\n",
      "42\n",
      "43\n",
      "44\n",
      "45\n",
      "46\n",
      "47\n",
      "48\n",
      "49\n",
      "50\n",
      "51\n",
      "Done\n"
     ]
    }
   ],
   "source": [
    "num = int(input('Enter a number to check for: '))\n",
    "for i in range(0,100):\n",
    "    if i == num:\n",
    "        break\n",
    "    print(i)\n",
    "print('Done')"
   ]
  },
  {
   "cell_type": "code",
   "execution_count": 35,
   "metadata": {},
   "outputs": [
    {
     "name": "stdout",
     "output_type": "stream",
     "text": [
      "0\n",
      "hey its an even number\n",
      "we love even numbers\n",
      "1\n",
      "2\n",
      "hey its an even number\n",
      "we love even numbers\n",
      "3\n",
      "4\n",
      "hey its an even number\n",
      "we love even numbers\n",
      "5\n",
      "6\n",
      "hey its an even number\n",
      "we love even numbers\n",
      "7\n",
      "8\n",
      "hey its an even number\n",
      "we love even numbers\n",
      "9\n",
      "Done\n"
     ]
    }
   ],
   "source": [
    "\n",
    "for i in range(0,10):\n",
    "    print(i)\n",
    "    if i % 2 ==1:\n",
    "        continue\n",
    "    print('hey its an even number')\n",
    "    print('we love even numbers')\n",
    "print('Done')"
   ]
  }
 ],
 "metadata": {
  "kernelspec": {
   "display_name": "Python 3",
   "language": "python",
   "name": "python3"
  },
  "language_info": {
   "codemirror_mode": {
    "name": "ipython",
    "version": 3
   },
   "file_extension": ".py",
   "mimetype": "text/x-python",
   "name": "python",
   "nbconvert_exporter": "python",
   "pygments_lexer": "ipython3",
   "version": "3.10.7"
  }
 },
 "nbformat": 4,
 "nbformat_minor": 2
}
